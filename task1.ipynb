{
 "cells": [
  {
   "cell_type": "code",
   "execution_count": 210,
   "metadata": {},
   "outputs": [],
   "source": [
    "import matplotlib.pyplot as plt\n",
    "import pandas as pd\n",
    "import pypsa"
   ]
  },
  {
   "cell_type": "code",
   "execution_count": 211,
   "metadata": {},
   "outputs": [],
   "source": [
    "country='DEU'\n",
    "\n",
    "carriers = [\n",
    "    \"onwind\",\n",
    "    \"offwind\",\n",
    "    \"solar\",\n",
    "    \"OCGT\",\n",
    "    \"CCGT\",\n",
    "    \"hydro\",\n",
    "    \"ror\",\n",
    "    \"coal\",\n",
    "    \"lignite\",\n",
    "    \"biomass CHP\",\n",
    "    \"battery storage\",\n",
    "]"
   ]
  },
  {
   "cell_type": "code",
   "execution_count": 212,
   "metadata": {},
   "outputs": [],
   "source": [
    "def annuity(r, n):\n",
    "    return r / (1.0 - 1.0 / (1.0 + r) ** n)"
   ]
  },
  {
   "cell_type": "markdown",
   "metadata": {},
   "source": [
    "Initialize model"
   ]
  },
  {
   "cell_type": "code",
   "execution_count": 213,
   "metadata": {},
   "outputs": [
    {
     "data": {
      "text/plain": [
       "Index(['electricity'], dtype='object')"
      ]
     },
     "execution_count": 213,
     "metadata": {},
     "output_type": "execute_result"
    }
   ],
   "source": [
    "network = pypsa.Network()\n",
    "hours_in_2015 = pd.date_range('2015-01-01 00:00Z',\n",
    "                              '2015-12-31 23:00Z',\n",
    "                              freq='h')\n",
    "\n",
    "network.set_snapshots(hours_in_2015.values)\n",
    "\n",
    "network.add(\"Bus\",\n",
    "            \"electricity\")"
   ]
  },
  {
   "cell_type": "markdown",
   "metadata": {},
   "source": [
    "Load data"
   ]
  },
  {
   "cell_type": "code",
   "execution_count": 214,
   "metadata": {},
   "outputs": [],
   "source": [
    "# load electricity demand data\n",
    "df_elec = pd.read_csv('data/electricity_demand.csv', sep=';', index_col=0) # in MWh\n",
    "df_elec.index = pd.to_datetime(df_elec.index) #change index to datatime\n",
    "\n",
    "df_onshorewind = pd.read_csv('data/onshore_wind_1979-2017.csv', sep=';', index_col=0)\n",
    "df_onshorewind.index = pd.to_datetime(df_onshorewind.index)\n",
    "\n",
    "df_offhorewind = pd.read_csv('data/offshore_wind_1979-2017.csv', sep=';', index_col=0)\n",
    "df_offhorewind.index = pd.to_datetime(df_offhorewind.index)\n",
    "\n",
    "df_solar = pd.read_csv('data/pv_optimal.csv', sep=';', index_col=0)\n",
    "df_solar.index = pd.to_datetime(df_solar.index)"
   ]
  },
  {
   "cell_type": "markdown",
   "metadata": {},
   "source": [
    "Financial data"
   ]
  },
  {
   "cell_type": "code",
   "execution_count": 215,
   "metadata": {},
   "outputs": [
    {
     "data": {
      "text/html": [
       "<div>\n",
       "<style scoped>\n",
       "    .dataframe tbody tr th:only-of-type {\n",
       "        vertical-align: middle;\n",
       "    }\n",
       "\n",
       "    .dataframe tbody tr th {\n",
       "        vertical-align: top;\n",
       "    }\n",
       "\n",
       "    .dataframe thead th {\n",
       "        text-align: right;\n",
       "    }\n",
       "</style>\n",
       "<table border=\"1\" class=\"dataframe\">\n",
       "  <thead>\n",
       "    <tr style=\"text-align: right;\">\n",
       "      <th>parameter</th>\n",
       "      <th>CO2 intensity</th>\n",
       "      <th>efficiency</th>\n",
       "      <th>investment</th>\n",
       "      <th>lifetime</th>\n",
       "      <th>FOM</th>\n",
       "      <th>VOM</th>\n",
       "      <th>marginal_cost</th>\n",
       "      <th>capital_cost</th>\n",
       "    </tr>\n",
       "    <tr>\n",
       "      <th>technology</th>\n",
       "      <th></th>\n",
       "      <th></th>\n",
       "      <th></th>\n",
       "      <th></th>\n",
       "      <th></th>\n",
       "      <th></th>\n",
       "      <th></th>\n",
       "      <th></th>\n",
       "    </tr>\n",
       "  </thead>\n",
       "  <tbody>\n",
       "    <tr>\n",
       "      <th>CCGT</th>\n",
       "      <td>0.1980</td>\n",
       "      <td>0.5600</td>\n",
       "      <td>931235.0</td>\n",
       "      <td>25.0</td>\n",
       "      <td>3.3295</td>\n",
       "      <td>4.6562</td>\n",
       "      <td>48.527629</td>\n",
       "      <td>110915.226329</td>\n",
       "    </tr>\n",
       "    <tr>\n",
       "      <th>OCGT</th>\n",
       "      <td>0.1980</td>\n",
       "      <td>0.4000</td>\n",
       "      <td>480390.3</td>\n",
       "      <td>25.0</td>\n",
       "      <td>1.7772</td>\n",
       "      <td>4.7620</td>\n",
       "      <td>66.182000</td>\n",
       "      <td>49760.036522</td>\n",
       "    </tr>\n",
       "    <tr>\n",
       "      <th>battery storage</th>\n",
       "      <td>0.0000</td>\n",
       "      <td>1.0000</td>\n",
       "      <td>245507.4</td>\n",
       "      <td>20.0</td>\n",
       "      <td>0.0000</td>\n",
       "      <td>0.0000</td>\n",
       "      <td>0.000000</td>\n",
       "      <td>23174.161778</td>\n",
       "    </tr>\n",
       "    <tr>\n",
       "      <th>biomass CHP</th>\n",
       "      <td>0.0000</td>\n",
       "      <td>0.2994</td>\n",
       "      <td>3578134.9</td>\n",
       "      <td>25.0</td>\n",
       "      <td>3.6081</td>\n",
       "      <td>2.2291</td>\n",
       "      <td>2.229100</td>\n",
       "      <td>436144.291781</td>\n",
       "    </tr>\n",
       "    <tr>\n",
       "      <th>coal</th>\n",
       "      <td>0.3361</td>\n",
       "      <td>0.3560</td>\n",
       "      <td>3827162.9</td>\n",
       "      <td>40.0</td>\n",
       "      <td>1.3100</td>\n",
       "      <td>3.2612</td>\n",
       "      <td>30.098840</td>\n",
       "      <td>337208.027448</td>\n",
       "    </tr>\n",
       "    <tr>\n",
       "      <th>hydro</th>\n",
       "      <td>0.0000</td>\n",
       "      <td>0.9000</td>\n",
       "      <td>2274817.7</td>\n",
       "      <td>80.0</td>\n",
       "      <td>1.0000</td>\n",
       "      <td>0.0000</td>\n",
       "      <td>0.000000</td>\n",
       "      <td>182698.734592</td>\n",
       "    </tr>\n",
       "    <tr>\n",
       "      <th>lignite</th>\n",
       "      <td>0.4069</td>\n",
       "      <td>0.3300</td>\n",
       "      <td>3827162.9</td>\n",
       "      <td>40.0</td>\n",
       "      <td>1.3100</td>\n",
       "      <td>3.2612</td>\n",
       "      <td>13.256655</td>\n",
       "      <td>337208.027448</td>\n",
       "    </tr>\n",
       "    <tr>\n",
       "      <th>offwind</th>\n",
       "      <td>0.0000</td>\n",
       "      <td>1.0000</td>\n",
       "      <td>1992610.5</td>\n",
       "      <td>27.0</td>\n",
       "      <td>2.5093</td>\n",
       "      <td>0.0212</td>\n",
       "      <td>0.021200</td>\n",
       "      <td>216235.568851</td>\n",
       "    </tr>\n",
       "    <tr>\n",
       "      <th>onwind</th>\n",
       "      <td>0.0000</td>\n",
       "      <td>1.0000</td>\n",
       "      <td>1183911.9</td>\n",
       "      <td>27.0</td>\n",
       "      <td>1.2514</td>\n",
       "      <td>1.5873</td>\n",
       "      <td>1.587300</td>\n",
       "      <td>113584.192786</td>\n",
       "    </tr>\n",
       "    <tr>\n",
       "      <th>ror</th>\n",
       "      <td>0.0000</td>\n",
       "      <td>0.9000</td>\n",
       "      <td>3412226.6</td>\n",
       "      <td>80.0</td>\n",
       "      <td>2.0000</td>\n",
       "      <td>0.0000</td>\n",
       "      <td>0.000000</td>\n",
       "      <td>308170.371903</td>\n",
       "    </tr>\n",
       "    <tr>\n",
       "      <th>solar</th>\n",
       "      <td>0.0000</td>\n",
       "      <td>1.0000</td>\n",
       "      <td>809811.8</td>\n",
       "      <td>35.0</td>\n",
       "      <td>1.5780</td>\n",
       "      <td>0.0106</td>\n",
       "      <td>0.010600</td>\n",
       "      <td>75323.802088</td>\n",
       "    </tr>\n",
       "  </tbody>\n",
       "</table>\n",
       "</div>"
      ],
      "text/plain": [
       "parameter        CO2 intensity  efficiency  investment  lifetime     FOM  \\\n",
       "technology                                                                 \n",
       "CCGT                    0.1980      0.5600    931235.0      25.0  3.3295   \n",
       "OCGT                    0.1980      0.4000    480390.3      25.0  1.7772   \n",
       "battery storage         0.0000      1.0000    245507.4      20.0  0.0000   \n",
       "biomass CHP             0.0000      0.2994   3578134.9      25.0  3.6081   \n",
       "coal                    0.3361      0.3560   3827162.9      40.0  1.3100   \n",
       "hydro                   0.0000      0.9000   2274817.7      80.0  1.0000   \n",
       "lignite                 0.4069      0.3300   3827162.9      40.0  1.3100   \n",
       "offwind                 0.0000      1.0000   1992610.5      27.0  2.5093   \n",
       "onwind                  0.0000      1.0000   1183911.9      27.0  1.2514   \n",
       "ror                     0.0000      0.9000   3412226.6      80.0  2.0000   \n",
       "solar                   0.0000      1.0000    809811.8      35.0  1.5780   \n",
       "\n",
       "parameter           VOM  marginal_cost   capital_cost  \n",
       "technology                                             \n",
       "CCGT             4.6562      48.527629  110915.226329  \n",
       "OCGT             4.7620      66.182000   49760.036522  \n",
       "battery storage  0.0000       0.000000   23174.161778  \n",
       "biomass CHP      2.2291       2.229100  436144.291781  \n",
       "coal             3.2612      30.098840  337208.027448  \n",
       "hydro            0.0000       0.000000  182698.734592  \n",
       "lignite          3.2612      13.256655  337208.027448  \n",
       "offwind          0.0212       0.021200  216235.568851  \n",
       "onwind           1.5873       1.587300  113584.192786  \n",
       "ror              0.0000       0.000000  308170.371903  \n",
       "solar            0.0106       0.010600   75323.802088  "
      ]
     },
     "execution_count": 215,
     "metadata": {},
     "output_type": "execute_result"
    }
   ],
   "source": [
    "costs = pd.read_csv(\"data/costs_2020.csv\", index_col=[0, 1])\n",
    "costs.loc[costs.unit.str.contains(\"/kW\"), \"value\"] *= 1e3\n",
    "costs.unit = costs.unit.str.replace(\"/kW\", \"/MW\")\n",
    "\n",
    "\n",
    "defaults = {\n",
    "    \"FOM\": 0,\n",
    "    \"VOM\": 0,\n",
    "    \"efficiency\": 1,\n",
    "    \"fuel\": 0,\n",
    "    \"investment\": 0,\n",
    "    \"lifetime\": 25,\n",
    "    \"CO2 intensity\": 0,\n",
    "    \"discount rate\": 0.07,\n",
    "}\n",
    "costs = costs.value.unstack().fillna(defaults)\n",
    "\n",
    "costs.at[\"OCGT\", \"fuel\"] = costs.at[\"gas\", \"fuel\"]\n",
    "costs.at[\"OCGT\", \"CO2 intensity\"] = costs.at[\"gas\", \"CO2 intensity\"]\n",
    "costs.at[\"CCGT\", \"fuel\"] = costs.at[\"gas\", \"fuel\"]\n",
    "costs.at[\"CCGT\", \"CO2 intensity\"] = costs.at[\"gas\", \"CO2 intensity\"]\n",
    "\n",
    "costs[\"marginal_cost\"] = costs[\"VOM\"] + (costs[\"fuel\"] / costs[\"efficiency\"])\n",
    "annuity_results = costs.apply(lambda x: annuity(x[\"discount rate\"], x[\"lifetime\"]), axis=1)\n",
    "costs[\"capital_cost\"] = (annuity_results + (costs[\"FOM\"] / 100)) * costs[\"investment\"]\n",
    "\n",
    "costs = costs.loc[costs.index.get_level_values(0).isin(carriers)]\n",
    "costs[[\"CO2 intensity\", 'efficiency', 'investment', 'lifetime', \"FOM\", \"VOM\", \"marginal_cost\", \"capital_cost\"]]"
   ]
  },
  {
   "cell_type": "code",
   "execution_count": 216,
   "metadata": {},
   "outputs": [],
   "source": [
    "costs.at[\"solar\", \"capital_cost\"] = annuity(25,0.07)*425000*(1+0.03) # in €/MW"
   ]
  },
  {
   "cell_type": "markdown",
   "metadata": {},
   "source": [
    "Capacity Factors"
   ]
  },
  {
   "cell_type": "code",
   "execution_count": 217,
   "metadata": {},
   "outputs": [],
   "source": [
    "CF_onwind = df_onshorewind[country][[hour.strftime(\"%Y-%m-%dT%H:%M:%SZ\") for hour in network.snapshots]]\n",
    "CF_offwind = df_offhorewind[country][[hour.strftime(\"%Y-%m-%dT%H:%M:%SZ\") for hour in network.snapshots]]\n",
    "CF_solar = df_solar[country][[hour.strftime(\"%Y-%m-%dT%H:%M:%SZ\") for hour in network.snapshots]]"
   ]
  },
  {
   "cell_type": "markdown",
   "metadata": {},
   "source": [
    "Adding Carriers to the network"
   ]
  },
  {
   "cell_type": "code",
   "execution_count": 218,
   "metadata": {},
   "outputs": [
    {
     "data": {
      "text/plain": [
       "Index(['onwind', 'offwind', 'solar', 'OCGT', 'CCGT', 'hydro', 'ror', 'coal',\n",
       "       'lignite', 'biomass CHP', 'battery storage'],\n",
       "      dtype='object')"
      ]
     },
     "execution_count": 218,
     "metadata": {},
     "output_type": "execute_result"
    }
   ],
   "source": [
    "network.add(\n",
    "    \"Carrier\",\n",
    "    carriers,\n",
    "    co2_emissions=[costs.at[c, \"CO2 intensity\"] for c in carriers],\n",
    ")"
   ]
  },
  {
   "cell_type": "markdown",
   "metadata": {},
   "source": [
    "Adding Load to the network"
   ]
  },
  {
   "cell_type": "code",
   "execution_count": 219,
   "metadata": {},
   "outputs": [
    {
     "data": {
      "text/plain": [
       "<Axes: xlabel='snapshot', ylabel='MW'>"
      ]
     },
     "execution_count": 219,
     "metadata": {},
     "output_type": "execute_result"
    },
    {
     "data": {
      "image/png": "[encoded data removed]",
      "text/plain": [
       "<Figure size 600x200 with 1 Axes>"
      ]
     },
     "metadata": {},
     "output_type": "display_data"
    }
   ],
   "source": [
    "# add load to the bus\n",
    "network.add(\"Load\",\n",
    "      \"demand\",\n",
    "      bus=\"electricity\",\n",
    "      p_set=df_elec[country].values)\n",
    "network.loads_t.p_set.plot(figsize=(6, 2), ylabel=\"MW\")"
   ]
  },
  {
   "cell_type": "markdown",
   "metadata": {},
   "source": [
    "Add the generators"
   ]
  },
  {
   "cell_type": "code",
   "execution_count": 220,
   "metadata": {},
   "outputs": [
    {
     "data": {
      "text/plain": [
       "Index(['lignite'], dtype='object')"
      ]
     },
     "execution_count": 220,
     "metadata": {},
     "output_type": "execute_result"
    }
   ],
   "source": [
    "## Renewables\n",
    "# add onshore wind generator\n",
    "network.add(\"Generator\",\n",
    "            \"onshorewind\",\n",
    "            bus=\"electricity\",\n",
    "            p_nom_extendable=True,\n",
    "            carrier=\"onshorewind\",\n",
    "            #p_nom_max=1000, # maximum capacity can be limited due to environmental constraints\n",
    "            capital_cost = costs.at[\"onwind\", \"capital_cost\"],\n",
    "            marginal_cost = costs.at[\"onwind\", \"marginal_cost\"],\n",
    "            p_max_pu = CF_onwind.values)\n",
    "\n",
    "# add offshore wind generator\n",
    "network.add(\"Generator\",\n",
    "            \"offshorewind\",\n",
    "            bus=\"electricity\",\n",
    "            p_nom_extendable=True,\n",
    "            carrier=\"offshorewind\",\n",
    "            #p_nom_max=1000, # maximum capacity can be limited due to environmental constraints\n",
    "            capital_cost = costs.at[\"offwind\", \"capital_cost\"],\n",
    "            marginal_cost = costs.at[\"offwind\", \"marginal_cost\"],\n",
    "            p_max_pu = CF_offwind.values)\n",
    "\n",
    "# add solar\n",
    "network.add(\"Generator\",\n",
    "            \"solar\",\n",
    "            bus=\"electricity\",\n",
    "            p_nom_extendable=True,\n",
    "            carrier=\"solar\",\n",
    "            #p_nom_max=1000, # maximum capacity can be limited due to environmental constraints\n",
    "            capital_cost = costs.at[\"solar\", \"capital_cost\"],\n",
    "            marginal_cost = costs.at[\"solar\", \"marginal_cost\"],\n",
    "            p_max_pu = CF_solar.values)\n",
    "\n",
    "# add biomass\n",
    "# TODO: research and add capacity/production limit\n",
    "network.add(\n",
    "            \"Generator\",\n",
    "            \"biomass CHP\",\n",
    "            bus=\"electricity\",\n",
    "            carrier=\"biomass CHP\",\n",
    "            #p_nom_max=1000, # maximum capacity can be limited due to environmental constraints\n",
    "            capital_cost=costs.at[\"biomass CHP\", \"capital_cost\"],\n",
    "            marginal_cost=costs.at[\"biomass CHP\", \"marginal_cost\"],\n",
    "            efficiency=costs.at[\"biomass CHP\", \"efficiency\"],\n",
    "            p_nom_extendable=True)\n",
    "\n",
    "# add hydro river\n",
    "# TODO: research and add capacity/production limit\n",
    "network.add(\n",
    "            \"Generator\",\n",
    "            \"ror\",\n",
    "            bus=\"electricity\",\n",
    "            carrier=\"ror\",\n",
    "            p_nom_max=4, # maximum capacity can be limited due to environmental constraints\n",
    "            capital_cost=costs.at[\"ror\", \"capital_cost\"],\n",
    "            marginal_cost=costs.at[\"ror\", \"marginal_cost\"],\n",
    "            efficiency=costs.at[\"ror\", \"efficiency\"],\n",
    "            p_nom_extendable=True)\n",
    "\n",
    "# add hydro reservoir\n",
    "# TODO: research and add capacity/production limit\n",
    "network.add(\n",
    "            \"Generator\",\n",
    "            \"hydro\",\n",
    "            bus=\"electricity\",\n",
    "            carrier=\"hydro\",\n",
    "            p_nom_max=4, # maximum capacity can be limited due to environmental constraints\n",
    "            capital_cost=costs.at[\"hydro\", \"capital_cost\"],\n",
    "            marginal_cost=costs.at[\"hydro\", \"marginal_cost\"],\n",
    "            efficiency=costs.at[\"hydro\", \"efficiency\"])\n",
    "\n",
    "## conventional\n",
    "# add OCGT (Open Cycle Gas Turbine) generator\n",
    "network.add(\"Generator\",\n",
    "            \"OCGT\",\n",
    "            bus=\"electricity\",\n",
    "            p_nom_extendable=True,\n",
    "            carrier=\"gas\",\n",
    "            #p_nom_max=1000,\n",
    "            capital_cost = costs.at[\"OCGT\", \"capital_cost\"],\n",
    "            marginal_cost = costs.at[\"OCGT\", \"marginal_cost\"])\n",
    "\n",
    "network.add(\n",
    "            \"Generator\",\n",
    "            \"CCGT\",\n",
    "            bus=\"electricity\",\n",
    "            carrier=\"CCGT\",\n",
    "            capital_cost=costs.at[\"CCGT\", \"capital_cost\"],\n",
    "            marginal_cost=costs.at[\"CCGT\", \"marginal_cost\"],\n",
    "            efficiency=costs.at[\"CCGT\", \"efficiency\"],\n",
    "            p_nom_extendable=True)\n",
    "\n",
    "network.add(\n",
    "            \"Generator\",\n",
    "            \"coal\",\n",
    "            bus=\"electricity\",\n",
    "            carrier=\"coal\",\n",
    "            capital_cost=costs.at[\"coal\", \"capital_cost\"],\n",
    "            marginal_cost=costs.at[\"coal\", \"marginal_cost\"],\n",
    "            efficiency=costs.at[\"coal\", \"efficiency\"],\n",
    "            p_nom_extendable=True)\n",
    "\n",
    "network.add(\n",
    "            \"Generator\",\n",
    "            \"lignite\",\n",
    "            bus=\"electricity\",\n",
    "            carrier=\"lignite\",\n",
    "            capital_cost=costs.at[\"lignite\", \"capital_cost\"],\n",
    "            marginal_cost=costs.at[\"lignite\", \"marginal_cost\"],\n",
    "            efficiency=costs.at[\"lignite\", \"efficiency\"],\n",
    "            p_nom_extendable=True)"
   ]
  },
  {
   "cell_type": "code",
   "execution_count": 221,
   "metadata": {},
   "outputs": [
    {
     "name": "stderr",
     "output_type": "stream",
     "text": [
      "WARNING:pypsa.consistency:The following generators have carriers which are not defined:\n",
      "Index(['onshorewind', 'offshorewind', 'OCGT'], dtype='object', name='Generator')\n",
      "WARNING:pypsa.consistency:The following buses have carriers which are not defined:\n",
      "Index(['electricity'], dtype='object', name='Bus')\n"
     ]
    },
    {
     "name": "stderr",
     "output_type": "stream",
     "text": [
      "INFO:linopy.model: Solve problem using Highs solver\n",
      "INFO:linopy.io:Writing objective.\n",
      "Writing constraints.: 100%|\u001b[38;2;128;191;255m██████████\u001b[0m| 7/7 [00:00<00:00, 16.22it/s]\n",
      "Writing continuous variables.: 100%|\u001b[38;2;128;191;255m██████████\u001b[0m| 2/2 [00:00<00:00, 22.49it/s]\n",
      "INFO:linopy.io: Writing time: 0.59s\n"
     ]
    },
    {
     "name": "stdout",
     "output_type": "stream",
     "text": [
      "Running HiGHS 1.9.0 (git hash: n/a): Copyright (c) 2024 HiGHS under MIT licence terms\n",
      "Coefficient ranges:\n",
      "  Matrix [1e-03, 1e+00]\n",
      "  Cost   [1e-02, 5e+07]\n",
      "  Bound  [0e+00, 0e+00]\n",
      "  RHS    [4e+00, 8e+04]\n",
      "Presolving model\n",
      "83352 rows, 74601 cols, 223776 nonzeros  0s\n",
      "83352 rows, 74601 cols, 223776 nonzeros  0s\n",
      "Presolve : Reductions: rows 83352(-100618); columns 74601(-13008); elements 223776(-113626)\n",
      "Solving the presolved LP\n",
      "Using EKK dual simplex solver - serial\n",
      "  Iteration        Objective     Infeasibilities num(sum)\n",
      "          0     0.0000000000e+00 Pr: 8760(5.12187e+09) 0s\n",
      "      70649     2.8850773778e+10 Pr: 0(0) 5s\n",
      "Solving the original LP from the solution after postsolve\n",
      "Model name          : linopy-problem-gkybwslq\n",
      "Model status        : Optimal\n",
      "Simplex   iterations: 70649\n",
      "Objective value     :  2.8850773778e+10\n",
      "Relative P-D gap    :  3.2341418582e-13\n",
      "HiGHS run time      :          4.65\n",
      "Writing the solution to /private/var/folders/v4/lzkm2zzd3gb0q8rqggx5drch0000gn/T/linopy-solve-5747rkco.sol\n"
     ]
    },
    {
     "name": "stderr",
     "output_type": "stream",
     "text": [
      "INFO:linopy.constants: Optimization successful: \n",
      "Status: ok\n",
      "Termination condition: optimal\n",
      "Solution: 87609 primals, 183970 duals\n",
      "Objective: 2.89e+10\n",
      "Solver model: available\n",
      "Solver message: optimal\n",
      "\n",
      "INFO:pypsa.optimization.optimize:The shadow-prices of the constraints Generator-fix-p-lower, Generator-fix-p-upper, Generator-ext-p-lower, Generator-ext-p-upper were not assigned to the network.\n"
     ]
    },
    {
     "data": {
      "text/plain": [
       "('ok', 'optimal')"
      ]
     },
     "execution_count": 221,
     "metadata": {},
     "output_type": "execute_result"
    }
   ],
   "source": [
    "network.optimize(solver_name=\"highs\")"
   ]
  },
  {
   "cell_type": "code",
   "execution_count": 222,
   "metadata": {},
   "outputs": [
    {
     "data": {
      "text/plain": [
       "28.85077377795162"
      ]
     },
     "execution_count": 222,
     "metadata": {},
     "output_type": "execute_result"
    }
   ],
   "source": [
    "network.objective / 1e9"
   ]
  },
  {
   "cell_type": "code",
   "execution_count": 223,
   "metadata": {},
   "outputs": [
    {
     "data": {
      "text/plain": [
       "Generator\n",
       "onshorewind     -0.000\n",
       "offshorewind    -0.000\n",
       "solar           -0.000\n",
       "biomass CHP     -0.000\n",
       "ror              0.004\n",
       "hydro            0.000\n",
       "OCGT            15.404\n",
       "CCGT            12.703\n",
       "coal            -0.000\n",
       "lignite         49.385\n",
       "Name: p_nom_opt, dtype: float64"
      ]
     },
     "execution_count": 223,
     "metadata": {},
     "output_type": "execute_result"
    }
   ],
   "source": [
    "network.generators.p_nom_opt.div(1e3)  # MW -> GW"
   ]
  },
  {
   "cell_type": "code",
   "execution_count": 224,
   "metadata": {},
   "outputs": [
    {
     "data": {
      "text/plain": [
       "Generator\n",
       "onshorewind       0.000000\n",
       "offshorewind      0.000000\n",
       "solar             0.000000\n",
       "biomass CHP       0.000000\n",
       "ror               0.035040\n",
       "hydro             0.000000\n",
       "OCGT             22.115195\n",
       "CCGT             61.040428\n",
       "coal              0.000000\n",
       "lignite         422.073900\n",
       "dtype: float64"
      ]
     },
     "execution_count": 224,
     "metadata": {},
     "output_type": "execute_result"
    }
   ],
   "source": [
    "network.generators_t.p.sum().div(1e6)  # MWh -> TWh"
   ]
  },
  {
   "cell_type": "code",
   "execution_count": 225,
   "metadata": {},
   "outputs": [
    {
     "data": {
      "text/plain": [
       "<Axes: xlabel='snapshot', ylabel='dispatch'>"
      ]
     },
     "execution_count": 225,
     "metadata": {},
     "output_type": "execute_result"
    },
    {
     "data": {
      "image/png": "[encoded data removed]",
      "text/plain": [
       "<Figure size 600x200 with 1 Axes>"
      ]
     },
     "metadata": {},
     "output_type": "display_data"
    }
   ],
   "source": [
    "network.generators_t.p.loc[\"2015-01\"].plot.area(figsize=(6, 2), ylabel=\"dispatch\")"
   ]
  },
  {
   "cell_type": "code",
   "execution_count": 180,
   "metadata": {},
   "outputs": [
    {
     "name": "stdout",
     "output_type": "stream",
     "text": [
      "<pandas.core.groupby.generic.SeriesGroupBy object at 0x306de7aa0>\n"
     ]
    }
   ],
   "source": [
    "dispatch_by_carrier = (\n",
    "    network.generators_t.p\n",
    "    .mul(network.snapshot_weightings.generators, axis=0)  # weight by time\n",
    "    .sum()\n",
    "    .groupby(network.generators.carrier)\n",
    ")\n",
    "print(dispatch_by_carrier)\n"
   ]
  },
  {
   "cell_type": "code",
   "execution_count": null,
   "metadata": {},
   "outputs": [],
   "source": []
  }
 ],
 "metadata": {
  "kernelspec": {
   "display_name": "integrated-energy-grids",
   "language": "python",
   "name": "python3"
  },
  "language_info": {
   "codemirror_mode": {
    "name": "ipython",
    "version": 3
   },
   "file_extension": ".py",
   "mimetype": "text/x-python",
   "name": "python",
   "nbconvert_exporter": "python",
   "pygments_lexer": "ipython3",
   "version": "3.12.8"
  }
 },
 "nbformat": 4,
 "nbformat_minor": 2
}
